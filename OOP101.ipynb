{
 "cells": [
  {
   "cell_type": "markdown",
   "metadata": {},
   "source": [
    "# Object-Oriented Programming\n",
    "## 物件導向程式設計 (簡稱OOP)\n",
    "\n",
    "### OOP 是一種 programming paradigm (編程範型)\n",
    "簡單講就是一種programming風格  \n",
    "以前大家寫的程式基本上應該都是Imperative Programming / Procedural Programming (指令式編程)  \n",
    "這種風格基本上就是寫出一個流程 每一個步驟皆是指令\n",
    "\n",
    "## 基本概念\n",
    "- Class (類別)\n",
    "- Object / Instance (物件 / 實例)\n",
    "- Inheritance (繼承)"
   ]
  },
  {
   "cell_type": "markdown",
   "metadata": {},
   "source": [
    "### Class\n",
    "Class 是類別的意思 例如: 迅猛龍 暴龍 劍龍 人類  \n",
    "類別並不是實體的物件 只是一個抽象的定義  \n",
    "例如: 迅猛龍會跑，會叫，會吃肉  "
   ]
  },
  {
   "cell_type": "code",
   "execution_count": 1,
   "metadata": {
    "collapsed": true
   },
   "outputs": [],
   "source": [
    "class 迅猛龍:\n",
    "    \n",
    "    def __init__(self, 名字): # __init__ 函數定義了生成一個迅猛龍時會做的事情\n",
    "        self.名字 = 名字\n",
    "        self.位置x = 0\n",
    "        self.位置y = 0\n",
    "\n",
    "    def 跑(self, 目標x, 目標y):\n",
    "        print(\"{0}正在跑向({1}, {2})...\".format(self.名字, 目標x, 目標y))\n",
    "        self.位置x = 目標x\n",
    "        self.位置y = 目標y\n",
    "\n",
    "    def 叫(self, 要說的話):\n",
    "        print(\"{0}說: 嗷噢噢嘎嘎~ 齁~~~ {1}\".format(self.名字, 要說的話))"
   ]
  },
  {
   "cell_type": "code",
   "execution_count": 2,
   "metadata": {
    "collapsed": false,
    "scrolled": false
   },
   "outputs": [
    {
     "name": "stdout",
     "output_type": "stream",
     "text": [
      "<class '__main__.迅猛龍'>\n",
      "<class 'type'>\n"
     ]
    }
   ],
   "source": [
    "print(迅猛龍)\n",
    "print(type(迅猛龍)) # class 是 \"type\" 的實例 很有趣"
   ]
  },
  {
   "cell_type": "markdown",
   "metadata": {},
   "source": [
    "### Instance\n",
    "Instance 是實例，一個Class的實例，例如: 小藍是一隻迅猛龍，德塔是一直迅猛龍，歐文是一個人類  \n",
    "實例就可以實作該類別所定義的方法/動作(methods)  \n",
    "所以小藍就可以進行\"跑\"的動作 \"叫\"的動作"
   ]
  },
  {
   "cell_type": "code",
   "execution_count": 3,
   "metadata": {
    "collapsed": false
   },
   "outputs": [
    {
     "name": "stdout",
     "output_type": "stream",
     "text": [
      "<__main__.迅猛龍 object at 0x10fea2d68>\n",
      "<class '__main__.迅猛龍'>\n"
     ]
    }
   ],
   "source": [
    "小藍 = 迅猛龍(\"小藍\")\n",
    "德塔 = 迅猛龍(\"德塔\")\n",
    "\n",
    "print(小藍)\n",
    "print(type(小藍))"
   ]
  },
  {
   "cell_type": "code",
   "execution_count": 4,
   "metadata": {
    "collapsed": false,
    "scrolled": false
   },
   "outputs": [
    {
     "name": "stdout",
     "output_type": "stream",
     "text": [
      "小藍說: 嗷噢噢嘎嘎~ 齁~~~ 帝王暴龍叫我殺歐文，你個老大\n"
     ]
    }
   ],
   "source": [
    "小藍.叫(\"帝王暴龍叫我殺歐文，你個老大\")"
   ]
  },
  {
   "cell_type": "markdown",
   "metadata": {},
   "source": [
    "### isinstance(object, type)\n",
    "通常在檢測一個物件是否為一個類別的實例時 會使用python的一個內建function: \"isinstance\"  \n",
    "例如: \"小藍\"是\"迅猛龍\"的實例"
   ]
  },
  {
   "cell_type": "code",
   "execution_count": 5,
   "metadata": {
    "collapsed": false,
    "scrolled": true
   },
   "outputs": [
    {
     "name": "stdout",
     "output_type": "stream",
     "text": [
      "True\n",
      "False\n"
     ]
    }
   ],
   "source": [
    "print(isinstance(小藍, 迅猛龍))\n",
    "print(isinstance(小藍, list)) # 小藍並不是一個list"
   ]
  },
  {
   "cell_type": "markdown",
   "metadata": {},
   "source": [
    "### Property, Method\n",
    "一個物件可能有他自己的屬性，例如小藍是恐龍小隊的副手，德塔是雌性，屬性即為\"property\"  \n",
    "一個物件有自己可以做的行為，例如小藍可以聞味道鎖定目標，可以跑向目標並攻擊目標，這些行為則成為\"method\""
   ]
  },
  {
   "cell_type": "code",
   "execution_count": 6,
   "metadata": {
    "collapsed": false
   },
   "outputs": [
    {
     "name": "stdout",
     "output_type": "stream",
     "text": [
      "副手\n",
      "女\n"
     ]
    }
   ],
   "source": [
    "小藍.職位 = \"副手\"\n",
    "德塔.性別 = \"女\"\n",
    "print(小藍.職位)\n",
    "print(德塔.性別)"
   ]
  },
  {
   "cell_type": "code",
   "execution_count": 7,
   "metadata": {
    "collapsed": false
   },
   "outputs": [
    {
     "name": "stdout",
     "output_type": "stream",
     "text": [
      "<bound method 迅猛龍.跑 of <__main__.迅猛龍 object at 0x10fea2d68>>\n",
      "<function 迅猛龍.跑 at 0x10fe967b8>\n"
     ]
    }
   ],
   "source": [
    "print(小藍.跑)\n",
    "print(迅猛龍.跑)"
   ]
  },
  {
   "cell_type": "code",
   "execution_count": 8,
   "metadata": {
    "collapsed": false
   },
   "outputs": [
    {
     "name": "stdout",
     "output_type": "stream",
     "text": [
      "小藍說: 嗷噢噢嘎嘎~ 齁~~~ 你好\n"
     ]
    }
   ],
   "source": [
    "# 這個寫法和 小藍.叫(\"你好\") 是一樣的:\n",
    "迅猛龍.叫(小藍, \"你好\")\n",
    "\n",
    "# 這就是為什麼我們要寫\"self\""
   ]
  },
  {
   "cell_type": "markdown",
   "metadata": {},
   "source": [
    "## Inheritance\n",
    "### 中文稱為繼承\n",
    "\n",
    "某些情況下一個類別會有\"子類別\" 使得子類別比原本的類別(父類別)更具體化  \n",
    "子類別會繼承父類別所有的property和method  \n",
    "例如: 恐龍是一個類別 迅猛龍繼承恐龍 所以迅猛龍有恐龍所有property和method"
   ]
  },
  {
   "cell_type": "code",
   "execution_count": 9,
   "metadata": {
    "collapsed": true
   },
   "outputs": [],
   "source": [
    "\n",
    "class 恐龍:\n",
    "\n",
    "    def __init__(self, 名字):\n",
    "        self.名字 = 名字\n",
    "        self.位置x = 0\n",
    "        self.位置y = 0\n",
    "\n",
    "    def 移動(self, 目標x, 目標y):\n",
    "        self.位置x = 目標x\n",
    "        self.位置y = 目標y\n",
    "\n",
    "    def 叫(self, 要說的話):\n",
    "        print(要說的話)\n"
   ]
  },
  {
   "cell_type": "code",
   "execution_count": 10,
   "metadata": {
    "collapsed": true
   },
   "outputs": [],
   "source": [
    "\n",
    "class 迅猛龍(恐龍): # 繼承恐龍\n",
    "\n",
    "    def 跑(self, 目標x, 目標y):\n",
    "        print(\"{0}正在跑向({1}, {2})...\".format(self.名字, 目標x, 目標y))\n",
    "        self.移動(目標x, 目標y) # 呼叫在\"恐龍\"裡定義的\"移動\"\n",
    "\n",
    "    def 叫(self, 要說的話): # 覆蓋(重新定義)在\"恐龍\"裡定義的\"叫\"\n",
    "        print(\"{0}說: 嗷噢噢嘎嘎~ 齁~~~ {1}\".format(self.名字, 要說的話))\n"
   ]
  },
  {
   "cell_type": "code",
   "execution_count": 11,
   "metadata": {
    "collapsed": false,
    "scrolled": true
   },
   "outputs": [
    {
     "name": "stdout",
     "output_type": "stream",
     "text": [
      "100 200\n",
      "小藍正在跑向(300, 100)...\n"
     ]
    }
   ],
   "source": [
    "小藍 = 迅猛龍(\"小藍\") # 由於在\"迅猛龍\"裡沒有重新定義\"__init__\" 所以是繼承\"恐龍\"的\"__init__\" 故傳入\"名字\"參數\n",
    "\n",
    "小藍.移動(100, 200) # 這裡是呼叫在\"恐龍\"裡定義的\"移動\"\n",
    "print(小藍.位置x, 小藍.位置y)\n",
    "\n",
    "小藍.跑(300, 100) # 在\"迅猛龍\"裡定義的\"跑\""
   ]
  },
  {
   "cell_type": "markdown",
   "metadata": {},
   "source": [
    "### issubclass(class, superclass)\n",
    "我們通常稱一個父類別為子類別的\"superclass\"  \n",
    "一個子類別為父類別的\"subclass\"  \n",
    "<br />\n",
    "在Python裡 當我們要檢測一個class是否為另一個class的subclass時 可以使用內建的\"issubclass\"\n",
    "例如: 迅猛龍是恐龍的subclass"
   ]
  },
  {
   "cell_type": "code",
   "execution_count": 12,
   "metadata": {
    "collapsed": false
   },
   "outputs": [
    {
     "name": "stdout",
     "output_type": "stream",
     "text": [
      "True\n",
      "True\n",
      "False\n"
     ]
    }
   ],
   "source": [
    "print(issubclass(迅猛龍, 恐龍))\n",
    "print(issubclass(迅猛龍, object)) # 注意: Python裡所有class皆繼承\"object\"\n",
    "print(issubclass(迅猛龍, list))"
   ]
  }
 ],
 "metadata": {
  "kernelspec": {
   "display_name": "Python 3",
   "language": "python",
   "name": "python3"
  },
  "language_info": {
   "codemirror_mode": {
    "name": "ipython",
    "version": 3
   },
   "file_extension": ".py",
   "mimetype": "text/x-python",
   "name": "python",
   "nbconvert_exporter": "python",
   "pygments_lexer": "ipython3",
   "version": "3.4.3"
  }
 },
 "nbformat": 4,
 "nbformat_minor": 0
}
